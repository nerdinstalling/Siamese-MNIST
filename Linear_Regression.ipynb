{
 "cells": [
  {
   "cell_type": "markdown",
   "metadata": {},
   "source": [
    "# Linear Regression"
   ]
  },
  {
   "cell_type": "code",
   "execution_count": 1,
   "metadata": {},
   "outputs": [],
   "source": [
    "%matplotlib inline"
   ]
  },
  {
   "cell_type": "code",
   "execution_count": 2,
   "metadata": {},
   "outputs": [],
   "source": [
    "import numpy as np\n",
    "from matplotlib import pyplot as plt"
   ]
  },
  {
   "cell_type": "code",
   "execution_count": 3,
   "metadata": {},
   "outputs": [],
   "source": [
    "np.random.seed(10)"
   ]
  },
  {
   "cell_type": "code",
   "execution_count": 4,
   "metadata": {},
   "outputs": [],
   "source": [
    "def generate_data():\n",
    "    nsamples = 100\n",
    "    x = np.random.rand(nsamples)\n",
    "    noise = np.random.uniform(0.01, 0.08, nsamples)\n",
    "    y = 0.5 * x + 0.2 + noise\n",
    "    train_x, y_train = x[:60], y[:60]\n",
    "    test_x, y_test = x[60:], y[60:]\n",
    "    return x, y, train_x, y_train, test_x, y_test"
   ]
  },
  {
   "cell_type": "code",
   "execution_count": 5,
   "metadata": {},
   "outputs": [
    {
     "data": {
      "text/plain": [
       "[<matplotlib.lines.Line2D at 0x1121aad68>]"
      ]
     },
     "execution_count": 5,
     "metadata": {},
     "output_type": "execute_result"
    },
    {
     "data": {
      "image/png": "[encoded data removed]",
      "text/plain": [
       "<Figure size 432x288 with 1 Axes>"
      ]
     },
     "metadata": {
      "needs_background": "light"
     },
     "output_type": "display_data"
    }
   ],
   "source": [
    "x, y, train_x, y_train, test_x, y_test = generate_data()\n",
    "plt.plot(x, y, 'bo')"
   ]
  },
  {
   "cell_type": "code",
   "execution_count": 6,
   "metadata": {},
   "outputs": [
    {
     "name": "stdout",
     "output_type": "stream",
     "text": [
      "shape of training data (60, 2)\n",
      "shape of training label (60,)\n",
      "shape of test data (40, 2)\n",
      "shape of test label (40,)\n"
     ]
    }
   ],
   "source": [
    "x, y, train_x, y_train, test_x, y_test = generate_data()\n",
    "train_x = np.stack([np.ones(train_x.shape[0]), train_x], axis=1)\n",
    "test_x = np.stack([np.ones(test_x.shape[0]), test_x], axis=1)\n",
    "print(\"shape of training data\", train_x.shape)\n",
    "print(\"shape of training label\", y_train.shape)\n",
    "print(\"shape of test data\", test_x.shape)\n",
    "print(\"shape of test label\", y_test.shape)"
   ]
  },
  {
   "cell_type": "code",
   "execution_count": 7,
   "metadata": {},
   "outputs": [
    {
     "name": "stdout",
     "output_type": "stream",
     "text": [
      "initial weight [0.23671088 0.7731156 ]\n"
     ]
    }
   ],
   "source": [
    "weight = np.random.uniform(size=2)\n",
    "print(\"initial weight %s\" %weight)"
   ]
  },
  {
   "cell_type": "code",
   "execution_count": 29,
   "metadata": {},
   "outputs": [
    {
     "name": "stdout",
     "output_type": "stream",
     "text": [
      "[0.23067953 0.52670877]\n"
     ]
    }
   ],
   "source": [
    "# Find optimal weights using Gradient Descent\n",
    "step_size = 0.1\n",
    "m = train_x.shape[0]\n",
    "\n",
    "for epoch in range(100):\n",
    "    # batch gradient descent\n",
    "    err = y_train - np.dot(weight,train_x.T)\n",
    "    deltaJ = -2*np.dot(err,train_x)/m\n",
    "    #print(deltaJ)\n",
    "    # update weight\n",
    "    weight = weight - step_size*deltaJ\n",
    "\n",
    "# print weights\n",
    "print(weight)"
   ]
  },
  {
   "cell_type": "code",
   "execution_count": 30,
   "metadata": {},
   "outputs": [],
   "source": [
    "# prediction on test data\n",
    "y_pred = np.dot(weight, test_x.T)"
   ]
  },
  {
   "cell_type": "code",
   "execution_count": 31,
   "metadata": {},
   "outputs": [
    {
     "data": {
      "text/plain": [
       "[<matplotlib.lines.Line2D at 0x11a205c18>]"
      ]
     },
     "execution_count": 31,
     "metadata": {},
     "output_type": "execute_result"
    },
    {
     "data": {
      "image/png": "[encoded data removed]",
      "text/plain": [
       "<Figure size 432x288 with 1 Axes>"
      ]
     },
     "metadata": {
      "needs_background": "light"
     },
     "output_type": "display_data"
    }
   ],
   "source": [
    "#ax1 = plt.plot(x, y, 'bo')\n",
    "plt.plot(x, y, 'bo')\n",
    "plt.plot(test_x[:,1], y_pred, 'ro')"
   ]
  },
  {
   "cell_type": "code",
   "execution_count": 32,
   "metadata": {},
   "outputs": [
    {
     "data": {
      "text/plain": [
       "[<matplotlib.lines.Line2D at 0x11a2f77b8>]"
      ]
     },
     "execution_count": 32,
     "metadata": {},
     "output_type": "execute_result"
    },
    {
     "data": {
      "image/png": "[encoded data removed]",
      "text/plain": [
       "<Figure size 432x288 with 1 Axes>"
      ]
     },
     "metadata": {
      "needs_background": "light"
     },
     "output_type": "display_data"
    }
   ],
   "source": [
    "# residue plot\n",
    "residue = y_pred - y_test\n",
    "plt.plot(test_x[:, 1], residue, 'go')"
   ]
  },
  {
   "cell_type": "code",
   "execution_count": 28,
   "metadata": {},
   "outputs": [
    {
     "data": {
      "text/plain": [
       "0.027035889853044708"
      ]
     },
     "execution_count": 28,
     "metadata": {},
     "output_type": "execute_result"
    }
   ],
   "source": [
    "residue.std()"
   ]
  },
  {
   "cell_type": "code",
   "execution_count": 12,
   "metadata": {},
   "outputs": [
    {
     "data": {
      "text/plain": [
       "array([0.23963248, 0.51056744])"
      ]
     },
     "execution_count": 12,
     "metadata": {},
     "output_type": "execute_result"
    }
   ],
   "source": [
    "# Direct solution\n",
    "inverse = np.linalg.inv(np.dot(train_x.T, train_x))\n",
    "weight = np.dot(y_train, np.dot(train_x, inverse))\n",
    "weight"
   ]
  },
  {
   "cell_type": "code",
   "execution_count": 13,
   "metadata": {},
   "outputs": [
    {
     "data": {
      "text/plain": [
       "[<matplotlib.lines.Line2D at 0x1126cea58>]"
      ]
     },
     "execution_count": 13,
     "metadata": {},
     "output_type": "execute_result"
    },
    {
     "data": {
      "image/png": "[encoded data removed]",
      "text/plain": [
       "<Figure size 432x288 with 1 Axes>"
      ]
     },
     "metadata": {
      "needs_background": "light"
     },
     "output_type": "display_data"
    }
   ],
   "source": [
    "# prediction on test data\n",
    "y_pred = np.dot(weight, test_x.T)\n",
    "#ax1 = plt.plot(x, y, 'bo')\n",
    "plt.plot(x, y, 'bo')\n",
    "plt.plot(test_x[:,1], y_pred, 'ro')"
   ]
  },
  {
   "cell_type": "code",
   "execution_count": null,
   "metadata": {},
   "outputs": [],
   "source": []
  }
 ],
 "metadata": {
  "kernelspec": {
   "display_name": "Python 3",
   "language": "python",
   "name": "python3"
  },
  "language_info": {
   "codemirror_mode": {
    "name": "ipython",
    "version": 3
   },
   "file_extension": ".py",
   "mimetype": "text/x-python",
   "name": "python",
   "nbconvert_exporter": "python",
   "pygments_lexer": "ipython3",
   "version": "3.7.0"
  }
 },
 "nbformat": 4,
 "nbformat_minor": 2
}
