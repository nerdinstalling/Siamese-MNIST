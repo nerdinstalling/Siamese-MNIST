{
 "cells": [
  {
   "cell_type": "code",
   "execution_count": 1,
   "metadata": {},
   "outputs": [],
   "source": [
    "%matplotlib inline"
   ]
  },
  {
   "cell_type": "code",
   "execution_count": 2,
   "metadata": {},
   "outputs": [
    {
     "name": "stderr",
     "output_type": "stream",
     "text": [
      "Using TensorFlow backend.\n"
     ]
    }
   ],
   "source": [
    "import numpy as np\n",
    "import random\n",
    "from keras.datasets import mnist\n",
    "from keras.models import Model\n",
    "from keras.layers import Input, Flatten, Dense, Dropout, Lambda\n",
    "from keras.optimizers import RMSprop\n",
    "from keras import backend as K\n",
    "from keras.utils.vis_utils import plot_model, model_to_dot\n",
    "from IPython.display import SVG\n",
    "from matplotlib import pyplot as plt"
   ]
  },
  {
   "cell_type": "code",
   "execution_count": 3,
   "metadata": {},
   "outputs": [],
   "source": [
    "import os\n",
    "os.environ['KMP_DUPLICATE_LIB_OK']='True'"
   ]
  },
  {
   "cell_type": "code",
   "execution_count": 4,
   "metadata": {},
   "outputs": [],
   "source": [
    "num_classes = 10\n",
    "epochs = 20\n"
   ]
  },
  {
   "cell_type": "code",
   "execution_count": 5,
   "metadata": {},
   "outputs": [],
   "source": [
    "def euclidean_distance(vects):\n",
    "    x,y = vects\n",
    "    sum_square = K.sum(K.square(x-y), axis=1, keepdims=True)\n",
    "    return K.sqrt(K.maximum(sum_square, K.epsilon()))"
   ]
  },
  {
   "cell_type": "code",
   "execution_count": 6,
   "metadata": {},
   "outputs": [],
   "source": [
    "def eucl_dist_output_shape(shapes):\n",
    "    shape1, shape2 = shapes\n",
    "    return (shape1[0], 1)"
   ]
  },
  {
   "cell_type": "code",
   "execution_count": 7,
   "metadata": {},
   "outputs": [],
   "source": [
    "def contrastive_loss(y_true, y_pred):\n",
    "    margin = 1\n",
    "    square_pred = K.square(y_pred)\n",
    "    margin_square = K.square(K.maximum(margin - y_pred, 0))\n",
    "    return K.mean(y_true * square_pred + (1-y_true) * margin_square)\n"
   ]
  },
  {
   "cell_type": "code",
   "execution_count": 8,
   "metadata": {},
   "outputs": [],
   "source": [
    "def create_pairs(x, digit_indices):\n",
    "    \n",
    "    pairs = []\n",
    "    labels = []\n",
    "    n = min([len(digit_indices[d]) for d in range(num_classes)]) - 1\n",
    "    for d in range(num_classes):\n",
    "        for i in range(n):\n",
    "            z1, z2 = digit_indices[d][i], digit_indices[d][i + 1]\n",
    "            pairs += [[x[z1], x[z2]]] # positive sample\n",
    "            inc = random.randrange(1, num_classes)\n",
    "            dn = (d + inc) % num_classes\n",
    "            z1, z2 = digit_indices[d][i], digit_indices[dn][i] # negative sample\n",
    "            pairs += [[x[z1], x[z2]]]\n",
    "            labels += [1, 0]\n",
    "    return np.array(pairs), np.array(labels)\n"
   ]
  },
  {
   "cell_type": "code",
   "execution_count": 9,
   "metadata": {},
   "outputs": [],
   "source": [
    "def create_base_network(input_shape):\n",
    "    '''Base network to be shared (eq. to feature extraction).\n",
    "    '''\n",
    "    input = Input(shape=input_shape)\n",
    "    x = Flatten()(input)\n",
    "    x = Dense(128, activation='relu')(x)\n",
    "    x = Dropout(0.1)(x)\n",
    "    x = Dense(128, activation='relu')(x)\n",
    "    x = Dropout(0.1)(x)\n",
    "    x = Dense(128, activation='relu')(x)\n",
    "    return Model(input, x)"
   ]
  },
  {
   "cell_type": "code",
   "execution_count": 10,
   "metadata": {},
   "outputs": [],
   "source": [
    "def compute_accuracy(y_true, y_pred):\n",
    "    '''Compute classification accuracy with a fixed threshold on distances.\n",
    "    '''\n",
    "    pred = y_pred.ravel() < 0.5\n",
    "    return np.mean(pred == y_true)\n"
   ]
  },
  {
   "cell_type": "code",
   "execution_count": 11,
   "metadata": {},
   "outputs": [],
   "source": [
    "def accuracy(y_true, y_pred):\n",
    "    '''Compute classification accuracy with a fixed threshold on distances.\n",
    "    '''\n",
    "    return K.mean(K.equal(y_true, K.cast(y_pred < 0.5, y_true.dtype)))"
   ]
  },
  {
   "cell_type": "code",
   "execution_count": 12,
   "metadata": {},
   "outputs": [],
   "source": [
    "(x_train, y_train), (x_test, y_test) = mnist.load_data()\n",
    "x_train = x_train.astype('float32')\n",
    "x_test = x_test.astype('float32')\n",
    "x_train /= 255\n",
    "x_test /= 255\n",
    "input_shape = x_train.shape[1:]"
   ]
  },
  {
   "cell_type": "code",
   "execution_count": 13,
   "metadata": {},
   "outputs": [],
   "source": [
    "digit_indices = [np.where(y_train == i)[0] for i in range(num_classes)]\n",
    "tr_pairs, tr_y = create_pairs(x_train, digit_indices)\n",
    "\n",
    "digit_indices = [np.where(y_test == i)[0] for i in range(num_classes)]\n",
    "te_pairs, te_y = create_pairs(x_test, digit_indices)"
   ]
  },
  {
   "cell_type": "code",
   "execution_count": 14,
   "metadata": {},
   "outputs": [
    {
     "name": "stdout",
     "output_type": "stream",
     "text": [
      "Shape of training pairs (108400, 2, 28, 28)\n",
      "Shape of training labels (108400,)\n"
     ]
    }
   ],
   "source": [
    "print(\"Shape of training pairs\", tr_pairs.shape)\n",
    "print(\"Shape of training labels\", tr_y.shape)"
   ]
  },
  {
   "cell_type": "code",
   "execution_count": 15,
   "metadata": {},
   "outputs": [],
   "source": [
    "# network definition\n",
    "base_network = create_base_network(input_shape)\n",
    "\n",
    "input_a = Input(shape=input_shape, name='input_a')\n",
    "input_b = Input(shape=input_shape, name='input_b')\n",
    "\n",
    "# because we re-use the same instance `base_network`,\n",
    "# the weights of the network\n",
    "# will be shared across the two branches\n",
    "processed_a = base_network(input_a)\n",
    "processed_b = base_network(input_b)\n",
    "\n",
    "distance = Lambda(euclidean_distance,\n",
    "                  output_shape=eucl_dist_output_shape)([processed_a, processed_b])\n",
    "\n",
    "model = Model([input_a, input_b], distance)\n"
   ]
  },
  {
   "cell_type": "code",
   "execution_count": 16,
   "metadata": {},
   "outputs": [
    {
     "name": "stdout",
     "output_type": "stream",
     "text": [
      "__________________________________________________________________________________________________\n",
      "Layer (type)                    Output Shape         Param #     Connected to                     \n",
      "==================================================================================================\n",
      "input_a (InputLayer)            (None, 28, 28)       0                                            \n",
      "__________________________________________________________________________________________________\n",
      "input_b (InputLayer)            (None, 28, 28)       0                                            \n",
      "__________________________________________________________________________________________________\n",
      "model_1 (Model)                 (None, 128)          133504      input_a[0][0]                    \n",
      "                                                                 input_b[0][0]                    \n",
      "__________________________________________________________________________________________________\n",
      "lambda_1 (Lambda)               (None, 1)            0           model_1[1][0]                    \n",
      "                                                                 model_1[2][0]                    \n",
      "==================================================================================================\n",
      "Total params: 133,504\n",
      "Trainable params: 133,504\n",
      "Non-trainable params: 0\n",
      "__________________________________________________________________________________________________\n"
     ]
    }
   ],
   "source": [
    "model.summary()"
   ]
  },
  {
   "cell_type": "code",
   "execution_count": 17,
   "metadata": {},
   "outputs": [
    {
     "data": {
      "image/svg+xml": [
       "<svg height=\"221pt\" viewBox=\"0.00 0.00 591.50 221.00\" width=\"592pt\" xmlns=\"http://www.w3.org/2000/svg\" xmlns:xlink=\"http://www.w3.org/1999/xlink\">\n",
       "<g class=\"graph\" id=\"graph0\" transform=\"scale(1 1) rotate(0) translate(4 217)\">\n",
       "<title>G</title>\n",
       "<polygon fill=\"#ffffff\" points=\"-4,4 -4,-217 587.5,-217 587.5,4 -4,4\" stroke=\"transparent\"/>\n",
       "<!-- 48190069784 -->\n",
       "<g class=\"node\" id=\"node1\">\n",
       "<title>48190069784</title>\n",
       "<polygon fill=\"none\" points=\"0,-166.5 0,-212.5 282,-212.5 282,-166.5 0,-166.5\" stroke=\"#000000\"/>\n",
       "<text fill=\"#000000\" font-family=\"Times,serif\" font-size=\"14.00\" text-anchor=\"middle\" x=\"64\" y=\"-185.8\">input_a: InputLayer</text>\n",
       "<polyline fill=\"none\" points=\"128,-166.5 128,-212.5 \" stroke=\"#000000\"/>\n",
       "<text fill=\"#000000\" font-family=\"Times,serif\" font-size=\"14.00\" text-anchor=\"middle\" x=\"156\" y=\"-197.3\">input:</text>\n",
       "<polyline fill=\"none\" points=\"128,-189.5 184,-189.5 \" stroke=\"#000000\"/>\n",
       "<text fill=\"#000000\" font-family=\"Times,serif\" font-size=\"14.00\" text-anchor=\"middle\" x=\"156\" y=\"-174.3\">output:</text>\n",
       "<polyline fill=\"none\" points=\"184,-166.5 184,-212.5 \" stroke=\"#000000\"/>\n",
       "<text fill=\"#000000\" font-family=\"Times,serif\" font-size=\"14.00\" text-anchor=\"middle\" x=\"233\" y=\"-197.3\">(None, 28, 28)</text>\n",
       "<polyline fill=\"none\" points=\"184,-189.5 282,-189.5 \" stroke=\"#000000\"/>\n",
       "<text fill=\"#000000\" font-family=\"Times,serif\" font-size=\"14.00\" text-anchor=\"middle\" x=\"233\" y=\"-174.3\">(None, 28, 28)</text>\n",
       "</g>\n",
       "<!-- 48462850200 -->\n",
       "<g class=\"node\" id=\"node3\">\n",
       "<title>48462850200</title>\n",
       "<polygon fill=\"none\" points=\"159.5,-83.5 159.5,-129.5 422.5,-129.5 422.5,-83.5 159.5,-83.5\" stroke=\"#000000\"/>\n",
       "<text fill=\"#000000\" font-family=\"Times,serif\" font-size=\"14.00\" text-anchor=\"middle\" x=\"214\" y=\"-102.8\">model_1: Model</text>\n",
       "<polyline fill=\"none\" points=\"268.5,-83.5 268.5,-129.5 \" stroke=\"#000000\"/>\n",
       "<text fill=\"#000000\" font-family=\"Times,serif\" font-size=\"14.00\" text-anchor=\"middle\" x=\"296.5\" y=\"-114.3\">input:</text>\n",
       "<polyline fill=\"none\" points=\"268.5,-106.5 324.5,-106.5 \" stroke=\"#000000\"/>\n",
       "<text fill=\"#000000\" font-family=\"Times,serif\" font-size=\"14.00\" text-anchor=\"middle\" x=\"296.5\" y=\"-91.3\">output:</text>\n",
       "<polyline fill=\"none\" points=\"324.5,-83.5 324.5,-129.5 \" stroke=\"#000000\"/>\n",
       "<text fill=\"#000000\" font-family=\"Times,serif\" font-size=\"14.00\" text-anchor=\"middle\" x=\"373.5\" y=\"-114.3\">(None, 28, 28)</text>\n",
       "<polyline fill=\"none\" points=\"324.5,-106.5 422.5,-106.5 \" stroke=\"#000000\"/>\n",
       "<text fill=\"#000000\" font-family=\"Times,serif\" font-size=\"14.00\" text-anchor=\"middle\" x=\"373.5\" y=\"-91.3\">(None, 128)</text>\n",
       "</g>\n",
       "<!-- 48190069784&#45;&gt;48462850200 -->\n",
       "<g class=\"edge\" id=\"edge1\">\n",
       "<title>48190069784-&gt;48462850200</title>\n",
       "<path d=\"M182.7834,-166.3799C200.5881,-156.5279 221.5226,-144.9442 240.2107,-134.6034\" fill=\"none\" stroke=\"#000000\"/>\n",
       "<polygon fill=\"#000000\" points=\"242.1256,-137.544 249.1808,-129.6399 238.7364,-131.4191 242.1256,-137.544\" stroke=\"#000000\"/>\n",
       "</g>\n",
       "<!-- 48462849808 -->\n",
       "<g class=\"node\" id=\"node2\">\n",
       "<title>48462849808</title>\n",
       "<polygon fill=\"none\" points=\"300.5,-166.5 300.5,-212.5 583.5,-212.5 583.5,-166.5 300.5,-166.5\" stroke=\"#000000\"/>\n",
       "<text fill=\"#000000\" font-family=\"Times,serif\" font-size=\"14.00\" text-anchor=\"middle\" x=\"365\" y=\"-185.8\">input_b: InputLayer</text>\n",
       "<polyline fill=\"none\" points=\"429.5,-166.5 429.5,-212.5 \" stroke=\"#000000\"/>\n",
       "<text fill=\"#000000\" font-family=\"Times,serif\" font-size=\"14.00\" text-anchor=\"middle\" x=\"457.5\" y=\"-197.3\">input:</text>\n",
       "<polyline fill=\"none\" points=\"429.5,-189.5 485.5,-189.5 \" stroke=\"#000000\"/>\n",
       "<text fill=\"#000000\" font-family=\"Times,serif\" font-size=\"14.00\" text-anchor=\"middle\" x=\"457.5\" y=\"-174.3\">output:</text>\n",
       "<polyline fill=\"none\" points=\"485.5,-166.5 485.5,-212.5 \" stroke=\"#000000\"/>\n",
       "<text fill=\"#000000\" font-family=\"Times,serif\" font-size=\"14.00\" text-anchor=\"middle\" x=\"534.5\" y=\"-197.3\">(None, 28, 28)</text>\n",
       "<polyline fill=\"none\" points=\"485.5,-189.5 583.5,-189.5 \" stroke=\"#000000\"/>\n",
       "<text fill=\"#000000\" font-family=\"Times,serif\" font-size=\"14.00\" text-anchor=\"middle\" x=\"534.5\" y=\"-174.3\">(None, 28, 28)</text>\n",
       "</g>\n",
       "<!-- 48462849808&#45;&gt;48462850200 -->\n",
       "<g class=\"edge\" id=\"edge2\">\n",
       "<title>48462849808-&gt;48462850200</title>\n",
       "<path d=\"M399.9381,-166.3799C381.9332,-156.4832 360.7489,-144.8388 341.8715,-134.4625\" fill=\"none\" stroke=\"#000000\"/>\n",
       "<polygon fill=\"#000000\" points=\"343.5473,-131.3898 333.098,-129.6399 340.1754,-137.5241 343.5473,-131.3898\" stroke=\"#000000\"/>\n",
       "</g>\n",
       "<!-- 48462636144 -->\n",
       "<g class=\"node\" id=\"node4\">\n",
       "<title>48462636144</title>\n",
       "<polygon fill=\"none\" points=\"116.5,-.5 116.5,-46.5 465.5,-46.5 465.5,-.5 116.5,-.5\" stroke=\"#000000\"/>\n",
       "<text fill=\"#000000\" font-family=\"Times,serif\" font-size=\"14.00\" text-anchor=\"middle\" x=\"179\" y=\"-19.8\">lambda_1: Lambda</text>\n",
       "<polyline fill=\"none\" points=\"241.5,-.5 241.5,-46.5 \" stroke=\"#000000\"/>\n",
       "<text fill=\"#000000\" font-family=\"Times,serif\" font-size=\"14.00\" text-anchor=\"middle\" x=\"269.5\" y=\"-31.3\">input:</text>\n",
       "<polyline fill=\"none\" points=\"241.5,-23.5 297.5,-23.5 \" stroke=\"#000000\"/>\n",
       "<text fill=\"#000000\" font-family=\"Times,serif\" font-size=\"14.00\" text-anchor=\"middle\" x=\"269.5\" y=\"-8.3\">output:</text>\n",
       "<polyline fill=\"none\" points=\"297.5,-.5 297.5,-46.5 \" stroke=\"#000000\"/>\n",
       "<text fill=\"#000000\" font-family=\"Times,serif\" font-size=\"14.00\" text-anchor=\"middle\" x=\"381.5\" y=\"-31.3\">[(None, 128), (None, 128)]</text>\n",
       "<polyline fill=\"none\" points=\"297.5,-23.5 465.5,-23.5 \" stroke=\"#000000\"/>\n",
       "<text fill=\"#000000\" font-family=\"Times,serif\" font-size=\"14.00\" text-anchor=\"middle\" x=\"381.5\" y=\"-8.3\">(None, 1)</text>\n",
       "</g>\n",
       "<!-- 48462850200&#45;&gt;48462636144 -->\n",
       "<g class=\"edge\" id=\"edge3\">\n",
       "<title>48462850200-&gt;48462636144</title>\n",
       "<path d=\"M291,-83.3799C291,-75.1745 291,-65.7679 291,-56.8786\" fill=\"none\" stroke=\"#000000\"/>\n",
       "<polygon fill=\"#000000\" points=\"294.5001,-56.784 291,-46.784 287.5001,-56.784 294.5001,-56.784\" stroke=\"#000000\"/>\n",
       "</g>\n",
       "</g>\n",
       "</svg>"
      ],
      "text/plain": [
       "<IPython.core.display.SVG object>"
      ]
     },
     "execution_count": 17,
     "metadata": {},
     "output_type": "execute_result"
    }
   ],
   "source": [
    "SVG(model_to_dot(model, show_layer_names=True, show_shapes=True).create(prog='dot', format='svg'))"
   ]
  },
  {
   "cell_type": "code",
   "execution_count": 18,
   "metadata": {},
   "outputs": [
    {
     "name": "stdout",
     "output_type": "stream",
     "text": [
      "Train on 108400 samples, validate on 17820 samples\n",
      "Epoch 1/20\n",
      "108400/108400 [==============================] - 21s 198us/step - loss: 0.0947 - accuracy: 0.8890 - val_loss: 0.0434 - val_accuracy: 0.9586\n",
      "Epoch 2/20\n",
      "108400/108400 [==============================] - 16s 149us/step - loss: 0.0387 - accuracy: 0.9633 - val_loss: 0.0302 - val_accuracy: 0.9680\n",
      "Epoch 3/20\n",
      "108400/108400 [==============================] - 17s 154us/step - loss: 0.0267 - accuracy: 0.9733 - val_loss: 0.0248 - val_accuracy: 0.9737\n",
      "Epoch 4/20\n",
      "108400/108400 [==============================] - 16s 146us/step - loss: 0.0211 - accuracy: 0.9788 - val_loss: 0.0242 - val_accuracy: 0.9728\n",
      "Epoch 5/20\n",
      "108400/108400 [==============================] - 16s 146us/step - loss: 0.0179 - accuracy: 0.9816 - val_loss: 0.0236 - val_accuracy: 0.9726\n",
      "Epoch 6/20\n",
      "108400/108400 [==============================] - 18s 169us/step - loss: 0.0157 - accuracy: 0.9841 - val_loss: 0.0242 - val_accuracy: 0.9722\n",
      "Epoch 7/20\n",
      "108400/108400 [==============================] - 17s 157us/step - loss: 0.0144 - accuracy: 0.9851 - val_loss: 0.0234 - val_accuracy: 0.9728\n",
      "Epoch 8/20\n",
      "108400/108400 [==============================] - 16s 144us/step - loss: 0.0131 - accuracy: 0.9869 - val_loss: 0.0223 - val_accuracy: 0.9741\n",
      "Epoch 9/20\n",
      "108400/108400 [==============================] - 16s 147us/step - loss: 0.0124 - accuracy: 0.9873 - val_loss: 0.0230 - val_accuracy: 0.9737\n",
      "Epoch 10/20\n",
      "108400/108400 [==============================] - 15s 143us/step - loss: 0.0115 - accuracy: 0.9881 - val_loss: 0.0235 - val_accuracy: 0.9728\n",
      "Epoch 11/20\n",
      "108400/108400 [==============================] - 16s 144us/step - loss: 0.0112 - accuracy: 0.9884 - val_loss: 0.0228 - val_accuracy: 0.9744\n",
      "Epoch 12/20\n",
      "108400/108400 [==============================] - 15s 143us/step - loss: 0.0104 - accuracy: 0.9895 - val_loss: 0.0237 - val_accuracy: 0.9740\n",
      "Epoch 13/20\n",
      "108400/108400 [==============================] - 15s 138us/step - loss: 0.0098 - accuracy: 0.9900 - val_loss: 0.0230 - val_accuracy: 0.9742\n",
      "Epoch 14/20\n",
      "108400/108400 [==============================] - 15s 138us/step - loss: 0.0098 - accuracy: 0.9899 - val_loss: 0.0233 - val_accuracy: 0.9745\n",
      "Epoch 15/20\n",
      "108400/108400 [==============================] - 15s 142us/step - loss: 0.0093 - accuracy: 0.9904 - val_loss: 0.0236 - val_accuracy: 0.9736\n",
      "Epoch 16/20\n",
      "108400/108400 [==============================] - 16s 144us/step - loss: 0.0091 - accuracy: 0.9906 - val_loss: 0.0234 - val_accuracy: 0.9732\n",
      "Epoch 17/20\n",
      "108400/108400 [==============================] - 16s 144us/step - loss: 0.0089 - accuracy: 0.9908 - val_loss: 0.0238 - val_accuracy: 0.9740\n",
      "Epoch 18/20\n",
      "108400/108400 [==============================] - 17s 153us/step - loss: 0.0086 - accuracy: 0.9911 - val_loss: 0.0243 - val_accuracy: 0.9732\n",
      "Epoch 19/20\n",
      "108400/108400 [==============================] - 15s 142us/step - loss: 0.0085 - accuracy: 0.9912 - val_loss: 0.0243 - val_accuracy: 0.9730\n",
      "Epoch 20/20\n",
      "108400/108400 [==============================] - 15s 139us/step - loss: 0.0083 - accuracy: 0.9914 - val_loss: 0.0247 - val_accuracy: 0.9715\n"
     ]
    }
   ],
   "source": [
    "# train\n",
    "rms = RMSprop()\n",
    "model.compile(loss=contrastive_loss, optimizer=rms, metrics=[accuracy])\n",
    "history = model.fit([tr_pairs[:, 0], tr_pairs[:, 1]], tr_y,\n",
    "          batch_size=128,\n",
    "          epochs=epochs,\n",
    "          validation_data=([te_pairs[:, 0], te_pairs[:, 1]], te_y))"
   ]
  },
  {
   "cell_type": "code",
   "execution_count": 20,
   "metadata": {},
   "outputs": [
    {
     "data": {
      "image/png": "[encoded data removed]",
      "text/plain": [
       "<Figure size 432x288 with 1 Axes>"
      ]
     },
     "metadata": {
      "needs_background": "light"
     },
     "output_type": "display_data"
    },
    {
     "data": {
      "image/png": "[encoded data removed]",
      "text/plain": [
       "<Figure size 432x288 with 1 Axes>"
      ]
     },
     "metadata": {
      "needs_background": "light"
     },
     "output_type": "display_data"
    }
   ],
   "source": [
    "# Plot training & validation accuracy values\n",
    "plt.plot(history.history['accuracy'])\n",
    "plt.plot(history.history['val_accuracy'])\n",
    "plt.title('Model accuracy')\n",
    "plt.ylabel('Accuracy')\n",
    "plt.xlabel('Epoch')\n",
    "plt.legend(['Train', 'Test'], loc='upper left')\n",
    "plt.show()\n",
    "\n",
    "# Plot training & validation loss values\n",
    "plt.plot(history.history['loss'])\n",
    "plt.plot(history.history['val_loss'])\n",
    "plt.title('Model loss')\n",
    "plt.ylabel('Loss')\n",
    "plt.xlabel('Epoch')\n",
    "plt.legend(['Train', 'Test'], loc='upper left')\n",
    "plt.show()"
   ]
  },
  {
   "cell_type": "code",
   "execution_count": 21,
   "metadata": {},
   "outputs": [],
   "source": [
    "# compute final accuracy on training and test sets\n",
    "y_pred = model.predict([tr_pairs[:, 0], tr_pairs[:, 1]])\n",
    "tr_acc = compute_accuracy(tr_y, y_pred)\n",
    "y_pred = model.predict([te_pairs[:, 0], te_pairs[:, 1]])\n",
    "te_acc = compute_accuracy(te_y, y_pred)\n"
   ]
  },
  {
   "cell_type": "code",
   "execution_count": 22,
   "metadata": {},
   "outputs": [
    {
     "name": "stdout",
     "output_type": "stream",
     "text": [
      "* Accuracy on training set: 99.60%\n",
      "* Accuracy on test set: 97.15%\n"
     ]
    }
   ],
   "source": [
    "print('* Accuracy on training set: %0.2f%%' % (100 * tr_acc))\n",
    "print('* Accuracy on test set: %0.2f%%' % (100 * te_acc))\n"
   ]
  },
  {
   "cell_type": "code",
   "execution_count": 25,
   "metadata": {},
   "outputs": [
    {
     "name": "stdout",
     "output_type": "stream",
     "text": [
      "17820/17820 [==============================] - 1s 66us/step\n"
     ]
    },
    {
     "data": {
      "text/plain": [
       "[0.0247481479397562, 0.9715488215488215]"
      ]
     },
     "execution_count": 25,
     "metadata": {},
     "output_type": "execute_result"
    }
   ],
   "source": [
    "model.evaluate([te_pairs[:, 0], te_pairs[:, 1]], te_y)"
   ]
  },
  {
   "cell_type": "code",
   "execution_count": null,
   "metadata": {},
   "outputs": [],
   "source": []
  }
 ],
 "metadata": {
  "kernelspec": {
   "display_name": "Python 3",
   "language": "python",
   "name": "python3"
  },
  "language_info": {
   "codemirror_mode": {
    "name": "ipython",
    "version": 3
   },
   "file_extension": ".py",
   "mimetype": "text/x-python",
   "name": "python",
   "nbconvert_exporter": "python",
   "pygments_lexer": "ipython3",
   "version": "3.6.6"
  }
 },
 "nbformat": 4,
 "nbformat_minor": 2
}
