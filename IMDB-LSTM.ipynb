{
 "cells": [
  {
   "cell_type": "code",
   "execution_count": 1,
   "metadata": {},
   "outputs": [
    {
     "name": "stderr",
     "output_type": "stream",
     "text": [
      "Using TensorFlow backend.\n"
     ]
    }
   ],
   "source": [
    "from keras.preprocessing import sequence\n",
    "from keras.models import Sequential\n",
    "from keras.layers import Dense, Embedding\n",
    "from keras.layers import LSTM\n",
    "from keras.datasets import imdb"
   ]
  },
  {
   "cell_type": "code",
   "execution_count": 2,
   "metadata": {},
   "outputs": [],
   "source": [
    "import os\n",
    "os.environ['KMP_DUPLICATE_LIB_OK']='True'"
   ]
  },
  {
   "cell_type": "code",
   "execution_count": 3,
   "metadata": {},
   "outputs": [],
   "source": [
    "max_features = 20000\n",
    "# cut texts after this number of words (among top max_features most common words)\n",
    "maxlen = 80\n",
    "batch_size = 32"
   ]
  },
  {
   "cell_type": "code",
   "execution_count": 4,
   "metadata": {},
   "outputs": [
    {
     "name": "stdout",
     "output_type": "stream",
     "text": [
      "Loading data...\n",
      "25000 train sequences\n",
      "25000 test sequences\n"
     ]
    }
   ],
   "source": [
    "print('Loading data...')\n",
    "(x_train, y_train), (x_test, y_test) = imdb.load_data(num_words=max_features)\n",
    "print(len(x_train), 'train sequences')\n",
    "print(len(x_test), 'test sequences')\n"
   ]
  },
  {
   "cell_type": "code",
   "execution_count": 5,
   "metadata": {},
   "outputs": [
    {
     "name": "stdout",
     "output_type": "stream",
     "text": [
      "Pad sequences (samples x time)\n",
      "x_train shape: (25000, 80)\n",
      "x_test shape: (25000, 80)\n"
     ]
    }
   ],
   "source": [
    "print('Pad sequences (samples x time)')\n",
    "x_train = sequence.pad_sequences(x_train, maxlen=maxlen)\n",
    "x_test = sequence.pad_sequences(x_test, maxlen=maxlen)\n",
    "print('x_train shape:', x_train.shape)\n",
    "print('x_test shape:', x_test.shape)\n"
   ]
  },
  {
   "cell_type": "code",
   "execution_count": 7,
   "metadata": {},
   "outputs": [
    {
     "name": "stdout",
     "output_type": "stream",
     "text": [
      "Build model...\n"
     ]
    }
   ],
   "source": [
    "print('Build model...')\n",
    "model = Sequential()\n",
    "model.add(Embedding(max_features, 128))\n",
    "model.add(LSTM(128, dropout=0.2, recurrent_dropout=0.2))\n",
    "model.add(Dense(1, activation='sigmoid'))\n"
   ]
  },
  {
   "cell_type": "code",
   "execution_count": 8,
   "metadata": {},
   "outputs": [],
   "source": [
    "model.compile(loss='binary_crossentropy',\n",
    "              optimizer='adam',\n",
    "              metrics=['accuracy'])\n"
   ]
  },
  {
   "cell_type": "code",
   "execution_count": 9,
   "metadata": {},
   "outputs": [
    {
     "name": "stdout",
     "output_type": "stream",
     "text": [
      "Train...\n",
      "Train on 25000 samples, validate on 25000 samples\n",
      "Epoch 1/15\n",
      "25000/25000 [==============================] - 402s 16ms/step - loss: 0.4562 - acc: 0.7848 - val_loss: 0.3981 - val_acc: 0.8255\n",
      "Epoch 2/15\n",
      "25000/25000 [==============================] - 466s 19ms/step - loss: 0.2941 - acc: 0.8800 - val_loss: 0.3965 - val_acc: 0.8358\n",
      "Epoch 3/15\n",
      "25000/25000 [==============================] - 496s 20ms/step - loss: 0.2107 - acc: 0.9184 - val_loss: 0.4054 - val_acc: 0.8284\n",
      "Epoch 4/15\n",
      "25000/25000 [==============================] - 456s 18ms/step - loss: 0.1524 - acc: 0.9444 - val_loss: 0.4860 - val_acc: 0.8287\n",
      "Epoch 5/15\n",
      "25000/25000 [==============================] - 392s 16ms/step - loss: 0.1072 - acc: 0.9602 - val_loss: 0.6355 - val_acc: 0.8198\n",
      "Epoch 6/15\n",
      "25000/25000 [==============================] - 450s 18ms/step - loss: 0.0802 - acc: 0.9717 - val_loss: 0.6856 - val_acc: 0.8198\n",
      "Epoch 7/15\n",
      "25000/25000 [==============================] - 416s 17ms/step - loss: 0.0620 - acc: 0.9794 - val_loss: 0.6690 - val_acc: 0.8151\n",
      "Epoch 8/15\n",
      "25000/25000 [==============================] - 376s 15ms/step - loss: 0.0475 - acc: 0.9832 - val_loss: 0.7227 - val_acc: 0.8176\n",
      "Epoch 9/15\n",
      "25000/25000 [==============================] - 896s 36ms/step - loss: 0.0377 - acc: 0.9876 - val_loss: 0.8716 - val_acc: 0.8160\n",
      "Epoch 10/15\n",
      "25000/25000 [==============================] - 374s 15ms/step - loss: 0.0262 - acc: 0.9913 - val_loss: 0.8679 - val_acc: 0.8149\n",
      "Epoch 11/15\n",
      "25000/25000 [==============================] - 1383s 55ms/step - loss: 0.0228 - acc: 0.9930 - val_loss: 0.9321 - val_acc: 0.8136\n",
      "Epoch 12/15\n",
      "25000/25000 [==============================] - 380s 15ms/step - loss: 0.0201 - acc: 0.9932 - val_loss: 1.0158 - val_acc: 0.8132\n",
      "Epoch 13/15\n",
      "25000/25000 [==============================] - 408s 16ms/step - loss: 0.0179 - acc: 0.9937 - val_loss: 1.0255 - val_acc: 0.8031\n",
      "Epoch 14/15\n",
      "25000/25000 [==============================] - 377s 15ms/step - loss: 0.0164 - acc: 0.9946 - val_loss: 1.0021 - val_acc: 0.8122\n",
      "Epoch 15/15\n",
      "25000/25000 [==============================] - 9296s 372ms/step - loss: 0.0073 - acc: 0.9978 - val_loss: 1.1120 - val_acc: 0.8080\n",
      "25000/25000 [==============================] - 86s 3ms/step\n"
     ]
    }
   ],
   "source": [
    "print('Train...')\n",
    "model.fit(x_train, y_train,\n",
    "          batch_size=batch_size,\n",
    "          epochs=15,\n",
    "          validation_data=(x_test, y_test))\n",
    "score, acc = model.evaluate(x_test, y_test,\n",
    "                            batch_size=batch_size)"
   ]
  },
  {
   "cell_type": "code",
   "execution_count": 10,
   "metadata": {},
   "outputs": [
    {
     "name": "stdout",
     "output_type": "stream",
     "text": [
      "Test score: 1.111983417403698\n",
      "Test accuracy: 0.80796\n"
     ]
    }
   ],
   "source": [
    "print('Test score:', score)\n",
    "print('Test accuracy:', acc)"
   ]
  },
  {
   "cell_type": "code",
   "execution_count": null,
   "metadata": {},
   "outputs": [],
   "source": []
  }
 ],
 "metadata": {
  "kernelspec": {
   "display_name": "Python 3",
   "language": "python",
   "name": "python3"
  },
  "language_info": {
   "codemirror_mode": {
    "name": "ipython",
    "version": 3
   },
   "file_extension": ".py",
   "mimetype": "text/x-python",
   "name": "python",
   "nbconvert_exporter": "python",
   "pygments_lexer": "ipython3",
   "version": "3.6.6"
  }
 },
 "nbformat": 4,
 "nbformat_minor": 2
}
